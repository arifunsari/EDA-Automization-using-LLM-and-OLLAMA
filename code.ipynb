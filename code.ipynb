{
 "cells": [
  {
   "cell_type": "code",
   "execution_count": 1,
   "id": "d91e2cc2",
   "metadata": {},
   "outputs": [],
   "source": [
    "import pandas as pd\n",
    "import seaborn as sns\n",
    "import matplotlib.pyplot as plt\n",
    "import numpy as np"
   ]
  },
  {
   "cell_type": "code",
   "execution_count": 2,
   "id": "ae7f3ada",
   "metadata": {},
   "outputs": [
    {
     "data": {
      "application/vnd.microsoft.datawrangler.viewer.v0+json": {
       "columns": [
        {
         "name": "index",
         "rawType": "int64",
         "type": "integer"
        },
        {
         "name": "Project ID",
         "rawType": "object",
         "type": "string"
        },
        {
         "name": "Project Name",
         "rawType": "object",
         "type": "string"
        },
        {
         "name": "Start Date",
         "rawType": "object",
         "type": "string"
        },
        {
         "name": "Planned Completion Date",
         "rawType": "object",
         "type": "string"
        },
        {
         "name": "Actual Completion Date",
         "rawType": "object",
         "type": "string"
        },
        {
         "name": "Planned Duration (days)",
         "rawType": "int64",
         "type": "integer"
        },
        {
         "name": "Schedule Variance (days)",
         "rawType": "int64",
         "type": "integer"
        },
        {
         "name": "Status",
         "rawType": "object",
         "type": "string"
        },
        {
         "name": "Location",
         "rawType": "object",
         "type": "string"
        },
        {
         "name": "Project Manager",
         "rawType": "object",
         "type": "string"
        },
        {
         "name": "Budget (INR)",
         "rawType": "int64",
         "type": "integer"
        },
        {
         "name": "Actual Cost (INR)",
         "rawType": "int64",
         "type": "integer"
        },
        {
         "name": "Cost Variance (INR)",
         "rawType": "int64",
         "type": "integer"
        },
        {
         "name": "Number of Workers",
         "rawType": "int64",
         "type": "integer"
        },
        {
         "name": "Safety Incidents",
         "rawType": "int64",
         "type": "integer"
        },
        {
         "name": "Client Satisfaction Score",
         "rawType": "int64",
         "type": "integer"
        },
        {
         "name": "Project Type",
         "rawType": "object",
         "type": "string"
        },
        {
         "name": "Contract Type",
         "rawType": "object",
         "type": "string"
        }
       ],
       "conversionMethod": "pd.DataFrame",
       "ref": "2900bbe3-f390-4ba9-bf7f-5a28a8a3aa6b",
       "rows": [
        [
         "0",
         "P00001",
         "Operative bandwidth-monitored software",
         "2024-03-23",
         "2028-04-09",
         "2028-08-14",
         "1478",
         "127",
         "Planned",
         "Delhi",
         "Tyler Moran",
         "96072754",
         "102299655",
         "-6226901",
         "1786",
         "0",
         "5",
         "Industrial",
         "Time and Materials"
        ],
        [
         "1",
         "P00002",
         "Object-based 24/7 open architecture",
         "2022-02-17",
         "2024-05-05",
         "2024-04-14",
         "808",
         "-21",
         "Completed",
         "Rajasthan",
         "Nicole Sutton",
         "206807555",
         "214311556",
         "-7504001",
         "1447",
         "3",
         "9",
         "Industrial",
         "Time and Materials"
        ],
        [
         "2",
         "P00003",
         "Organic bifurcated infrastructure",
         "2021-03-18",
         "2025-03-10",
         "2025-12-23",
         "1453",
         "288",
         "Ongoing",
         "Delhi",
         "George Sanchez",
         "446372348",
         "444106163",
         "2266185",
         "707",
         "5",
         "10",
         "Industrial",
         "Time and Materials"
        ],
        [
         "3",
         "P00004",
         "Ergonomic system-worthy methodology",
         "2022-04-11",
         "2024-07-19",
         "2024-08-24",
         "830",
         "36",
         "Ongoing",
         "Delhi",
         "Barbara Miller",
         "210406573",
         "216082139",
         "-5675566",
         "180",
         "4",
         "6",
         "Industrial",
         "Time and Materials"
        ],
        [
         "4",
         "P00005",
         "Integrated heuristic installation",
         "2021-06-26",
         "2025-03-24",
         "2025-04-07",
         "1367",
         "14",
         "Completed",
         "Tamil Nadu",
         "Zachary Gonzalez",
         "74554536",
         "73647303",
         "907233",
         "1095",
         "4",
         "1",
         "Industrial",
         "Fixed-Price"
        ]
       ],
       "shape": {
        "columns": 18,
        "rows": 5
       }
      },
      "text/html": [
       "<div>\n",
       "<style scoped>\n",
       "    .dataframe tbody tr th:only-of-type {\n",
       "        vertical-align: middle;\n",
       "    }\n",
       "\n",
       "    .dataframe tbody tr th {\n",
       "        vertical-align: top;\n",
       "    }\n",
       "\n",
       "    .dataframe thead th {\n",
       "        text-align: right;\n",
       "    }\n",
       "</style>\n",
       "<table border=\"1\" class=\"dataframe\">\n",
       "  <thead>\n",
       "    <tr style=\"text-align: right;\">\n",
       "      <th></th>\n",
       "      <th>Project ID</th>\n",
       "      <th>Project Name</th>\n",
       "      <th>Start Date</th>\n",
       "      <th>Planned Completion Date</th>\n",
       "      <th>Actual Completion Date</th>\n",
       "      <th>Planned Duration (days)</th>\n",
       "      <th>Schedule Variance (days)</th>\n",
       "      <th>Status</th>\n",
       "      <th>Location</th>\n",
       "      <th>Project Manager</th>\n",
       "      <th>Budget (INR)</th>\n",
       "      <th>Actual Cost (INR)</th>\n",
       "      <th>Cost Variance (INR)</th>\n",
       "      <th>Number of Workers</th>\n",
       "      <th>Safety Incidents</th>\n",
       "      <th>Client Satisfaction Score</th>\n",
       "      <th>Project Type</th>\n",
       "      <th>Contract Type</th>\n",
       "    </tr>\n",
       "  </thead>\n",
       "  <tbody>\n",
       "    <tr>\n",
       "      <th>0</th>\n",
       "      <td>P00001</td>\n",
       "      <td>Operative bandwidth-monitored software</td>\n",
       "      <td>2024-03-23</td>\n",
       "      <td>2028-04-09</td>\n",
       "      <td>2028-08-14</td>\n",
       "      <td>1478</td>\n",
       "      <td>127</td>\n",
       "      <td>Planned</td>\n",
       "      <td>Delhi</td>\n",
       "      <td>Tyler Moran</td>\n",
       "      <td>96072754</td>\n",
       "      <td>102299655</td>\n",
       "      <td>-6226901</td>\n",
       "      <td>1786</td>\n",
       "      <td>0</td>\n",
       "      <td>5</td>\n",
       "      <td>Industrial</td>\n",
       "      <td>Time and Materials</td>\n",
       "    </tr>\n",
       "    <tr>\n",
       "      <th>1</th>\n",
       "      <td>P00002</td>\n",
       "      <td>Object-based 24/7 open architecture</td>\n",
       "      <td>2022-02-17</td>\n",
       "      <td>2024-05-05</td>\n",
       "      <td>2024-04-14</td>\n",
       "      <td>808</td>\n",
       "      <td>-21</td>\n",
       "      <td>Completed</td>\n",
       "      <td>Rajasthan</td>\n",
       "      <td>Nicole Sutton</td>\n",
       "      <td>206807555</td>\n",
       "      <td>214311556</td>\n",
       "      <td>-7504001</td>\n",
       "      <td>1447</td>\n",
       "      <td>3</td>\n",
       "      <td>9</td>\n",
       "      <td>Industrial</td>\n",
       "      <td>Time and Materials</td>\n",
       "    </tr>\n",
       "    <tr>\n",
       "      <th>2</th>\n",
       "      <td>P00003</td>\n",
       "      <td>Organic bifurcated infrastructure</td>\n",
       "      <td>2021-03-18</td>\n",
       "      <td>2025-03-10</td>\n",
       "      <td>2025-12-23</td>\n",
       "      <td>1453</td>\n",
       "      <td>288</td>\n",
       "      <td>Ongoing</td>\n",
       "      <td>Delhi</td>\n",
       "      <td>George Sanchez</td>\n",
       "      <td>446372348</td>\n",
       "      <td>444106163</td>\n",
       "      <td>2266185</td>\n",
       "      <td>707</td>\n",
       "      <td>5</td>\n",
       "      <td>10</td>\n",
       "      <td>Industrial</td>\n",
       "      <td>Time and Materials</td>\n",
       "    </tr>\n",
       "    <tr>\n",
       "      <th>3</th>\n",
       "      <td>P00004</td>\n",
       "      <td>Ergonomic system-worthy methodology</td>\n",
       "      <td>2022-04-11</td>\n",
       "      <td>2024-07-19</td>\n",
       "      <td>2024-08-24</td>\n",
       "      <td>830</td>\n",
       "      <td>36</td>\n",
       "      <td>Ongoing</td>\n",
       "      <td>Delhi</td>\n",
       "      <td>Barbara Miller</td>\n",
       "      <td>210406573</td>\n",
       "      <td>216082139</td>\n",
       "      <td>-5675566</td>\n",
       "      <td>180</td>\n",
       "      <td>4</td>\n",
       "      <td>6</td>\n",
       "      <td>Industrial</td>\n",
       "      <td>Time and Materials</td>\n",
       "    </tr>\n",
       "    <tr>\n",
       "      <th>4</th>\n",
       "      <td>P00005</td>\n",
       "      <td>Integrated heuristic installation</td>\n",
       "      <td>2021-06-26</td>\n",
       "      <td>2025-03-24</td>\n",
       "      <td>2025-04-07</td>\n",
       "      <td>1367</td>\n",
       "      <td>14</td>\n",
       "      <td>Completed</td>\n",
       "      <td>Tamil Nadu</td>\n",
       "      <td>Zachary Gonzalez</td>\n",
       "      <td>74554536</td>\n",
       "      <td>73647303</td>\n",
       "      <td>907233</td>\n",
       "      <td>1095</td>\n",
       "      <td>4</td>\n",
       "      <td>1</td>\n",
       "      <td>Industrial</td>\n",
       "      <td>Fixed-Price</td>\n",
       "    </tr>\n",
       "  </tbody>\n",
       "</table>\n",
       "</div>"
      ],
      "text/plain": [
       "  Project ID                            Project Name  Start Date  \\\n",
       "0     P00001  Operative bandwidth-monitored software  2024-03-23   \n",
       "1     P00002     Object-based 24/7 open architecture  2022-02-17   \n",
       "2     P00003       Organic bifurcated infrastructure  2021-03-18   \n",
       "3     P00004     Ergonomic system-worthy methodology  2022-04-11   \n",
       "4     P00005       Integrated heuristic installation  2021-06-26   \n",
       "\n",
       "  Planned Completion Date Actual Completion Date  Planned Duration (days)  \\\n",
       "0              2028-04-09             2028-08-14                     1478   \n",
       "1              2024-05-05             2024-04-14                      808   \n",
       "2              2025-03-10             2025-12-23                     1453   \n",
       "3              2024-07-19             2024-08-24                      830   \n",
       "4              2025-03-24             2025-04-07                     1367   \n",
       "\n",
       "   Schedule Variance (days)     Status    Location   Project Manager  \\\n",
       "0                       127    Planned       Delhi       Tyler Moran   \n",
       "1                       -21  Completed   Rajasthan     Nicole Sutton   \n",
       "2                       288    Ongoing       Delhi    George Sanchez   \n",
       "3                        36    Ongoing       Delhi    Barbara Miller   \n",
       "4                        14  Completed  Tamil Nadu  Zachary Gonzalez   \n",
       "\n",
       "   Budget (INR)  Actual Cost (INR)  Cost Variance (INR)  Number of Workers  \\\n",
       "0      96072754          102299655             -6226901               1786   \n",
       "1     206807555          214311556             -7504001               1447   \n",
       "2     446372348          444106163              2266185                707   \n",
       "3     210406573          216082139             -5675566                180   \n",
       "4      74554536           73647303               907233               1095   \n",
       "\n",
       "   Safety Incidents  Client Satisfaction Score Project Type  \\\n",
       "0                 0                          5   Industrial   \n",
       "1                 3                          9   Industrial   \n",
       "2                 5                         10   Industrial   \n",
       "3                 4                          6   Industrial   \n",
       "4                 4                          1   Industrial   \n",
       "\n",
       "        Contract Type  \n",
       "0  Time and Materials  \n",
       "1  Time and Materials  \n",
       "2  Time and Materials  \n",
       "3  Time and Materials  \n",
       "4         Fixed-Price  "
      ]
     },
     "execution_count": 2,
     "metadata": {},
     "output_type": "execute_result"
    }
   ],
   "source": [
    "df = pd.read_csv(r\"C:\\Users\\Admin\\Desktop\\placement calss notes\\12-04-2025-- EDA Automization using LLM\\12th- EDA_LLM\\12th- EDA_LLM\\my pratical\\LT_Construction_Project_Timelines_No_Null.csv\")\n",
    "df.head()"
   ]
  },
  {
   "cell_type": "code",
   "execution_count": 3,
   "id": "8a7f8461",
   "metadata": {},
   "outputs": [
    {
     "data": {
      "application/vnd.microsoft.datawrangler.viewer.v0+json": {
       "columns": [
        {
         "name": "index",
         "rawType": "object",
         "type": "string"
        },
        {
         "name": "Planned Duration (days)",
         "rawType": "float64",
         "type": "float"
        },
        {
         "name": "Schedule Variance (days)",
         "rawType": "float64",
         "type": "float"
        },
        {
         "name": "Budget (INR)",
         "rawType": "float64",
         "type": "float"
        },
        {
         "name": "Actual Cost (INR)",
         "rawType": "float64",
         "type": "float"
        },
        {
         "name": "Cost Variance (INR)",
         "rawType": "float64",
         "type": "float"
        },
        {
         "name": "Number of Workers",
         "rawType": "float64",
         "type": "float"
        },
        {
         "name": "Safety Incidents",
         "rawType": "float64",
         "type": "float"
        },
        {
         "name": "Client Satisfaction Score",
         "rawType": "float64",
         "type": "float"
        }
       ],
       "conversionMethod": "pd.DataFrame",
       "ref": "dc122c60-06ba-437d-aebe-ce18e167bae1",
       "rows": [
        [
         "count",
         "10000.0",
         "10000.0",
         "10000.0",
         "10000.0",
         "10000.0",
         "10000.0",
         "10000.0",
         "10000.0"
        ],
        [
         "mean",
         "1004.4666",
         "128.1576",
         "276488452.5802",
         "279856179.7824",
         "-3367727.2022",
         "1057.2124",
         "2.4793",
         "6.8752"
        ],
        [
         "std",
         "474.2389544765752",
         "119.10154608596834",
         "130371883.1183016",
         "130591432.01261997",
         "6256890.82878863",
         "549.9432752992294",
         "1.7162942861315431",
         "2.3421728239721347"
        ],
        [
         "min",
         "180.0",
         "-30.0",
         "50056051.0",
         "40788231.0",
         "-19993813.0",
         "100.0",
         "0.0",
         "1.0"
        ],
        [
         "25%",
         "595.0",
         "25.0",
         "162995250.0",
         "166129395.5",
         "-7572721.0",
         "585.0",
         "1.0",
         "5.0"
        ],
        [
         "50%",
         "1012.0",
         "93.0",
         "278183968.0",
         "281486160.5",
         "-2971773.0",
         "1057.0",
         "2.0",
         "7.0"
        ],
        [
         "75%",
         "1418.0",
         "232.0",
         "390940024.0",
         "393894247.0",
         "1492090.0",
         "1536.0",
         "4.0",
         "9.0"
        ],
        [
         "max",
         "1825.0",
         "365.0",
         "499970804.0",
         "519147939.0",
         "9970840.0",
         "2000.0",
         "5.0",
         "10.0"
        ]
       ],
       "shape": {
        "columns": 8,
        "rows": 8
       }
      },
      "text/html": [
       "<div>\n",
       "<style scoped>\n",
       "    .dataframe tbody tr th:only-of-type {\n",
       "        vertical-align: middle;\n",
       "    }\n",
       "\n",
       "    .dataframe tbody tr th {\n",
       "        vertical-align: top;\n",
       "    }\n",
       "\n",
       "    .dataframe thead th {\n",
       "        text-align: right;\n",
       "    }\n",
       "</style>\n",
       "<table border=\"1\" class=\"dataframe\">\n",
       "  <thead>\n",
       "    <tr style=\"text-align: right;\">\n",
       "      <th></th>\n",
       "      <th>Planned Duration (days)</th>\n",
       "      <th>Schedule Variance (days)</th>\n",
       "      <th>Budget (INR)</th>\n",
       "      <th>Actual Cost (INR)</th>\n",
       "      <th>Cost Variance (INR)</th>\n",
       "      <th>Number of Workers</th>\n",
       "      <th>Safety Incidents</th>\n",
       "      <th>Client Satisfaction Score</th>\n",
       "    </tr>\n",
       "  </thead>\n",
       "  <tbody>\n",
       "    <tr>\n",
       "      <th>count</th>\n",
       "      <td>10000.000000</td>\n",
       "      <td>10000.000000</td>\n",
       "      <td>1.000000e+04</td>\n",
       "      <td>1.000000e+04</td>\n",
       "      <td>1.000000e+04</td>\n",
       "      <td>10000.000000</td>\n",
       "      <td>10000.000000</td>\n",
       "      <td>10000.000000</td>\n",
       "    </tr>\n",
       "    <tr>\n",
       "      <th>mean</th>\n",
       "      <td>1004.466600</td>\n",
       "      <td>128.157600</td>\n",
       "      <td>2.764885e+08</td>\n",
       "      <td>2.798562e+08</td>\n",
       "      <td>-3.367727e+06</td>\n",
       "      <td>1057.212400</td>\n",
       "      <td>2.479300</td>\n",
       "      <td>6.875200</td>\n",
       "    </tr>\n",
       "    <tr>\n",
       "      <th>std</th>\n",
       "      <td>474.238954</td>\n",
       "      <td>119.101546</td>\n",
       "      <td>1.303719e+08</td>\n",
       "      <td>1.305914e+08</td>\n",
       "      <td>6.256891e+06</td>\n",
       "      <td>549.943275</td>\n",
       "      <td>1.716294</td>\n",
       "      <td>2.342173</td>\n",
       "    </tr>\n",
       "    <tr>\n",
       "      <th>min</th>\n",
       "      <td>180.000000</td>\n",
       "      <td>-30.000000</td>\n",
       "      <td>5.005605e+07</td>\n",
       "      <td>4.078823e+07</td>\n",
       "      <td>-1.999381e+07</td>\n",
       "      <td>100.000000</td>\n",
       "      <td>0.000000</td>\n",
       "      <td>1.000000</td>\n",
       "    </tr>\n",
       "    <tr>\n",
       "      <th>25%</th>\n",
       "      <td>595.000000</td>\n",
       "      <td>25.000000</td>\n",
       "      <td>1.629952e+08</td>\n",
       "      <td>1.661294e+08</td>\n",
       "      <td>-7.572721e+06</td>\n",
       "      <td>585.000000</td>\n",
       "      <td>1.000000</td>\n",
       "      <td>5.000000</td>\n",
       "    </tr>\n",
       "    <tr>\n",
       "      <th>50%</th>\n",
       "      <td>1012.000000</td>\n",
       "      <td>93.000000</td>\n",
       "      <td>2.781840e+08</td>\n",
       "      <td>2.814862e+08</td>\n",
       "      <td>-2.971773e+06</td>\n",
       "      <td>1057.000000</td>\n",
       "      <td>2.000000</td>\n",
       "      <td>7.000000</td>\n",
       "    </tr>\n",
       "    <tr>\n",
       "      <th>75%</th>\n",
       "      <td>1418.000000</td>\n",
       "      <td>232.000000</td>\n",
       "      <td>3.909400e+08</td>\n",
       "      <td>3.938942e+08</td>\n",
       "      <td>1.492090e+06</td>\n",
       "      <td>1536.000000</td>\n",
       "      <td>4.000000</td>\n",
       "      <td>9.000000</td>\n",
       "    </tr>\n",
       "    <tr>\n",
       "      <th>max</th>\n",
       "      <td>1825.000000</td>\n",
       "      <td>365.000000</td>\n",
       "      <td>4.999708e+08</td>\n",
       "      <td>5.191479e+08</td>\n",
       "      <td>9.970840e+06</td>\n",
       "      <td>2000.000000</td>\n",
       "      <td>5.000000</td>\n",
       "      <td>10.000000</td>\n",
       "    </tr>\n",
       "  </tbody>\n",
       "</table>\n",
       "</div>"
      ],
      "text/plain": [
       "       Planned Duration (days)  Schedule Variance (days)  Budget (INR)  \\\n",
       "count             10000.000000              10000.000000  1.000000e+04   \n",
       "mean               1004.466600                128.157600  2.764885e+08   \n",
       "std                 474.238954                119.101546  1.303719e+08   \n",
       "min                 180.000000                -30.000000  5.005605e+07   \n",
       "25%                 595.000000                 25.000000  1.629952e+08   \n",
       "50%                1012.000000                 93.000000  2.781840e+08   \n",
       "75%                1418.000000                232.000000  3.909400e+08   \n",
       "max                1825.000000                365.000000  4.999708e+08   \n",
       "\n",
       "       Actual Cost (INR)  Cost Variance (INR)  Number of Workers  \\\n",
       "count       1.000000e+04         1.000000e+04       10000.000000   \n",
       "mean        2.798562e+08        -3.367727e+06        1057.212400   \n",
       "std         1.305914e+08         6.256891e+06         549.943275   \n",
       "min         4.078823e+07        -1.999381e+07         100.000000   \n",
       "25%         1.661294e+08        -7.572721e+06         585.000000   \n",
       "50%         2.814862e+08        -2.971773e+06        1057.000000   \n",
       "75%         3.938942e+08         1.492090e+06        1536.000000   \n",
       "max         5.191479e+08         9.970840e+06        2000.000000   \n",
       "\n",
       "       Safety Incidents  Client Satisfaction Score  \n",
       "count      10000.000000               10000.000000  \n",
       "mean           2.479300                   6.875200  \n",
       "std            1.716294                   2.342173  \n",
       "min            0.000000                   1.000000  \n",
       "25%            1.000000                   5.000000  \n",
       "50%            2.000000                   7.000000  \n",
       "75%            4.000000                   9.000000  \n",
       "max            5.000000                  10.000000  "
      ]
     },
     "execution_count": 3,
     "metadata": {},
     "output_type": "execute_result"
    }
   ],
   "source": [
    "df.describe()"
   ]
  },
  {
   "cell_type": "code",
   "execution_count": 12,
   "id": "44681e9b",
   "metadata": {},
   "outputs": [
    {
     "name": "stdout",
     "output_type": "stream",
     "text": [
      "<class 'pandas.core.frame.DataFrame'>\n",
      "RangeIndex: 10000 entries, 0 to 9999\n",
      "Data columns (total 18 columns):\n",
      " #   Column                     Non-Null Count  Dtype \n",
      "---  ------                     --------------  ----- \n",
      " 0   Project ID                 10000 non-null  object\n",
      " 1   Project Name               10000 non-null  object\n",
      " 2   Start Date                 10000 non-null  object\n",
      " 3   Planned Completion Date    10000 non-null  object\n",
      " 4   Actual Completion Date     10000 non-null  object\n",
      " 5   Planned Duration (days)    10000 non-null  int64 \n",
      " 6   Schedule Variance (days)   10000 non-null  int64 \n",
      " 7   Status                     10000 non-null  object\n",
      " 8   Location                   10000 non-null  object\n",
      " 9   Project Manager            10000 non-null  object\n",
      " 10  Budget (INR)               10000 non-null  int64 \n",
      " 11  Actual Cost (INR)          10000 non-null  int64 \n",
      " 12  Cost Variance (INR)        10000 non-null  int64 \n",
      " 13  Number of Workers          10000 non-null  int64 \n",
      " 14  Safety Incidents           10000 non-null  int64 \n",
      " 15  Client Satisfaction Score  10000 non-null  int64 \n",
      " 16  Project Type               10000 non-null  object\n",
      " 17  Contract Type              10000 non-null  object\n",
      "dtypes: int64(8), object(10)\n",
      "memory usage: 1.4+ MB\n"
     ]
    }
   ],
   "source": [
    "df.info()"
   ]
  },
  {
   "cell_type": "code",
   "execution_count": 5,
   "id": "6f729adf",
   "metadata": {},
   "outputs": [],
   "source": [
    "# ! pip install ollama --upgrade"
   ]
  },
  {
   "cell_type": "code",
   "execution_count": 8,
   "id": "a756ddc2",
   "metadata": {},
   "outputs": [],
   "source": [
    "import ollama"
   ]
  },
  {
   "cell_type": "code",
   "execution_count": 9,
   "id": "ca501e7e",
   "metadata": {},
   "outputs": [
    {
     "name": "stdout",
     "output_type": "stream",
     "text": [
      "\n",
      "🔹 AI-Generated Insights:\n",
      "  Based on the dataset summary provided, here are some insights and observations:\n",
      "\n",
      "1. **Planned Duration (days)**: The planned duration for each project varies between 180 days to 1825 days with a mean of approximately 1004 days. This suggests that the average length of projects is just over a year.\n",
      "\n",
      "2. **Schedule Variance (days)**: The schedule variance shows the difference between the planned and actual duration of each project. Here, it ranges from -30 days (meaning the project was completed 30 days ahead of schedule) to 365 days (meaning the project was delayed by 365 days). The mean schedule variance is 128.16 days, indicating that on average, projects are running slightly behind schedule.\n",
      "\n",
      "3. **Budget (INR)**: The total budget for all projects combined is approximately 27.65 crore INR with an average of around 2.76 million INR per project.\n",
      "\n",
      "4. **Actual Cost (INR)**: The actual cost for each project ranges from 4.08 million INR to 5.19 crore INR, with a mean of approximately 2.79 million INR. This suggests that the actual costs are slightly higher than the budgeted amounts on average.\n",
      "\n",
      "5. **Cost Variance (INR)**: The cost variance indicates the difference between the budgeted and actual costs for each project. Here, it ranges from a negative value of -1.99 crore INR (meaning the actual cost was 1.99 crore more than the budget) to a positive value of 9.97 crore INR (meaning the actual cost was 9.97 crore less than the budget). The mean cost variance is -3.37 million INR, indicating that on average, projects are slightly overbudget.\n",
      "\n",
      "6. **Number of Workers**: The number of workers involved in each project varies between 100 and 2000, with a mean of around 1057 workers per project. This suggests that the majority of projects have a medium to large scale workforce.\n",
      "\n",
      "7. **Safety Incidents**: There were safety incidents reported in all projects, with a minimum of 0 incidents and a maximum of 2000 incidents. The mean number of safety incidents is approximately 2.48 incidents per project, indicating that safety incidents are common but not overly frequent.\n",
      "\n",
      "8. **Client Satisfaction Score**: The client satisfaction score for each project ranges from 1 to 5 (with 5 being the highest) with a mean score of around 6.88 out of 5. This suggests that clients are generally satisfied with the work done on their projects. However, it's important to note that the maximum possible score is only 5, which might make the average seem higher than it actually is.\n"
     ]
    }
   ],
   "source": [
    "\n",
    "\n",
    "import ollama\n",
    "\n",
    "def generate_insights(df_summary):\n",
    "    prompt = f\"Analyze the dataset summary and provide insights:\\n\\n{df_summary}\"\n",
    "    response = ollama.chat(model=\"mistral\", messages=[{\"role\": \"user\", \"content\": prompt}])\n",
    "    return response['message']['content']\n",
    "\n",
    "# Generate AI Insights\n",
    "summary = df.describe().to_string()\n",
    "insights = generate_insights(summary)\n",
    "print(\"\\n🔹 AI-Generated Insights:\\n\", insights)"
   ]
  },
  {
   "cell_type": "code",
   "execution_count": 10,
   "id": "45247fd4",
   "metadata": {},
   "outputs": [
    {
     "name": "stdout",
     "output_type": "stream",
     "text": [
      "* Running on local URL:  http://127.0.0.1:7860\n",
      "\n",
      "Could not create share link. Please check your internet connection or our status page: https://status.gradio.app.\n"
     ]
    },
    {
     "data": {
      "text/html": [
       "<div><iframe src=\"http://127.0.0.1:7860/\" width=\"100%\" height=\"500\" allow=\"autoplay; camera; microphone; clipboard-read; clipboard-write;\" frameborder=\"0\" allowfullscreen></iframe></div>"
      ],
      "text/plain": [
       "<IPython.core.display.HTML object>"
      ]
     },
     "metadata": {},
     "output_type": "display_data"
    },
    {
     "data": {
      "text/plain": []
     },
     "execution_count": 10,
     "metadata": {},
     "output_type": "execute_result"
    }
   ],
   "source": [
    "import gradio as gr\n",
    "\n",
    "def eda_analysis(file):\n",
    "    df = pd.read_csv(file.name)\n",
    "    summary = df.describe().to_string()\n",
    "    insights = generate_insights(summary)\n",
    "    return insights\n",
    "\n",
    "# Create Web Interface\n",
    "demo = gr.Interface(fn=eda_analysis, inputs=\"file\", outputs=\"text\", title=\"AI-Powered EDA with Mistral\")\n",
    "\n",
    "# Launch App\n",
    "demo.launch(share=True)  # Use share=True for Google Colab"
   ]
  },
  {
   "cell_type": "code",
   "execution_count": null,
   "id": "7da4a837",
   "metadata": {},
   "outputs": [],
   "source": []
  }
 ],
 "metadata": {
  "kernelspec": {
   "display_name": "base",
   "language": "python",
   "name": "python3"
  },
  "language_info": {
   "codemirror_mode": {
    "name": "ipython",
    "version": 3
   },
   "file_extension": ".py",
   "mimetype": "text/x-python",
   "name": "python",
   "nbconvert_exporter": "python",
   "pygments_lexer": "ipython3",
   "version": "3.12.4"
  }
 },
 "nbformat": 4,
 "nbformat_minor": 5
}
